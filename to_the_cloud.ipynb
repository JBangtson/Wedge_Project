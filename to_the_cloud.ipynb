{
 "cells": [
  {
   "cell_type": "code",
   "execution_count": 29,
   "metadata": {},
   "outputs": [],
   "source": [
    "from google.cloud import bigquery\n",
    "import os\n",
    "import zipfile\n",
    "import polars as pl\n",
    "import pandas as pd\n",
    "from datetime import datetime\n",
    "\n",
    "# Define the dataset and table names\n",
    "dataset_id = 'wedge-project-JBangtson.the_wedge_dataset'\n",
    "\n",
    "# Initialize a BigQuery client\n",
    "client = bigquery.Client(project='wedge-project-JBangtson')\n",
    "\n",
    "\n",
    "data_directory = \"E:\\\\College\\\\Fall 2024\\\\ADA\\\\Wedge\\\\Wedge_Project\\\\data\\\\unzipped\\\\\""
   ]
  },
  {
   "cell_type": "markdown",
   "metadata": {},
   "source": [
    "## Importing the files in as lazy dataframes."
   ]
  },
  {
   "cell_type": "code",
   "execution_count": 23,
   "metadata": {},
   "outputs": [],
   "source": [
    "# Need to put all csvs into there own dfs\n",
    "#https://chatgpt.com/share/66e4ad8b-ea5c-8000-9117-d884dd0bbfb3\n",
    "\n",
    "\n",
    "# Initialize an empty list to store LazyFrames\n",
    "lazy_df_list = []\n",
    "\n",
    "# Loop through files and load lazily\n",
    "for idx, file in enumerate(os.listdir(data_directory)):\n",
    "    \n",
    "\n",
    "    file_path = os.path.join(data_directory, file)\n",
    "\n",
    "\n",
    "    if len(os.listdir(data_directory)[idx].split(\"_\")) >= 4 and os.listdir(data_directory)[idx].split(\"_\")[3] == \"inactive.csv\":\n",
    "        # Use LazyFrame for efficient processing\n",
    "        lazy_df = pl.scan_csv(file_path, has_header=True, null_values=[\"\\\\N\"], ignore_errors=True,separator=\";\")\n",
    "\n",
    "    else:\n",
    "        # Use LazyFrame for efficient processing\n",
    "        lazy_df = pl.scan_csv(file_path, has_header=True, null_values=[\"\\\\N\"], ignore_errors=True)\n",
    "    \n",
    "    # Append LazyFrame to the list\n",
    "    lazy_df_list.append(lazy_df)\n",
    "\n",
    "# Example: Materialize (collect) one of the lazy DataFrames to inspect it\n",
    "df = lazy_df_list[0].collect()\n",
    "#df1 = lazy_df_list[38].collect()\n",
    "\n",
    "clean_columns = df.columns\n",
    "#print(df.head())\n"
   ]
  },
  {
   "cell_type": "markdown",
   "metadata": {},
   "source": [
    "## Creating GBQ Schema"
   ]
  },
  {
   "cell_type": "code",
   "execution_count": 22,
   "metadata": {},
   "outputs": [
    {
     "ename": "ValueError",
     "evalue": "table_id must be a fully-qualified ID in standard SQL format, e.g., \"project.dataset.table_id\", got ",
     "output_type": "error",
     "traceback": [
      "\u001b[1;31m---------------------------------------------------------------------------\u001b[0m",
      "\u001b[1;31mValueError\u001b[0m                                Traceback (most recent call last)",
      "Cell \u001b[1;32mIn[22], line 55\u001b[0m\n\u001b[0;32m      1\u001b[0m schema \u001b[38;5;241m=\u001b[39m [\n\u001b[0;32m      2\u001b[0m     bigquery\u001b[38;5;241m.\u001b[39mSchemaField(\u001b[38;5;124m\"\u001b[39m\u001b[38;5;124mdatetime\u001b[39m\u001b[38;5;124m\"\u001b[39m, \u001b[38;5;124m\"\u001b[39m\u001b[38;5;124mTIMESTAMP\u001b[39m\u001b[38;5;124m\"\u001b[39m, mode\u001b[38;5;241m=\u001b[39m\u001b[38;5;124m\"\u001b[39m\u001b[38;5;124mNULLABLE\u001b[39m\u001b[38;5;124m\"\u001b[39m),\n\u001b[0;32m      3\u001b[0m     bigquery\u001b[38;5;241m.\u001b[39mSchemaField(\u001b[38;5;124m\"\u001b[39m\u001b[38;5;124mregister_no\u001b[39m\u001b[38;5;124m\"\u001b[39m, \u001b[38;5;124m\"\u001b[39m\u001b[38;5;124mFLOAT\u001b[39m\u001b[38;5;124m\"\u001b[39m, mode\u001b[38;5;241m=\u001b[39m\u001b[38;5;124m\"\u001b[39m\u001b[38;5;124mNULLABLE\u001b[39m\u001b[38;5;124m\"\u001b[39m),\n\u001b[1;32m   (...)\u001b[0m\n\u001b[0;32m     51\u001b[0m     bigquery\u001b[38;5;241m.\u001b[39mSchemaField(\u001b[38;5;124m\"\u001b[39m\u001b[38;5;124mtrans_id\u001b[39m\u001b[38;5;124m\"\u001b[39m, \u001b[38;5;124m\"\u001b[39m\u001b[38;5;124mFLOAT\u001b[39m\u001b[38;5;124m\"\u001b[39m, mode\u001b[38;5;241m=\u001b[39m\u001b[38;5;124m\"\u001b[39m\u001b[38;5;124mNULLABLE\u001b[39m\u001b[38;5;124m\"\u001b[39m),\n\u001b[0;32m     52\u001b[0m ]\n\u001b[0;32m     54\u001b[0m table_id \u001b[38;5;241m=\u001b[39m \u001b[38;5;124m\"\u001b[39m\u001b[38;5;124m\"\u001b[39m\n\u001b[1;32m---> 55\u001b[0m table \u001b[38;5;241m=\u001b[39m \u001b[43mbigquery\u001b[49m\u001b[38;5;241;43m.\u001b[39;49m\u001b[43mTable\u001b[49m\u001b[43m(\u001b[49m\u001b[43mtable_id\u001b[49m\u001b[43m,\u001b[49m\u001b[43m \u001b[49m\u001b[43mschema\u001b[49m\u001b[38;5;241;43m=\u001b[39;49m\u001b[43mschema\u001b[49m\u001b[43m)\u001b[49m\n\u001b[0;32m     57\u001b[0m client\u001b[38;5;241m.\u001b[39mcreate_table(table)\n",
      "File \u001b[1;32mc:\\Users\\justi\\AppData\\Local\\Programs\\Python\\Python312\\Lib\\site-packages\\google\\cloud\\bigquery\\table.py:412\u001b[0m, in \u001b[0;36mTable.__init__\u001b[1;34m(self, table_ref, schema)\u001b[0m\n\u001b[0;32m    411\u001b[0m \u001b[38;5;28;01mdef\u001b[39;00m \u001b[38;5;21m__init__\u001b[39m(\u001b[38;5;28mself\u001b[39m, table_ref, schema\u001b[38;5;241m=\u001b[39m\u001b[38;5;28;01mNone\u001b[39;00m) \u001b[38;5;241m-\u001b[39m\u001b[38;5;241m>\u001b[39m \u001b[38;5;28;01mNone\u001b[39;00m:\n\u001b[1;32m--> 412\u001b[0m     table_ref \u001b[38;5;241m=\u001b[39m \u001b[43m_table_arg_to_table_ref\u001b[49m\u001b[43m(\u001b[49m\u001b[43mtable_ref\u001b[49m\u001b[43m)\u001b[49m\n\u001b[0;32m    413\u001b[0m     \u001b[38;5;28mself\u001b[39m\u001b[38;5;241m.\u001b[39m_properties \u001b[38;5;241m=\u001b[39m {\u001b[38;5;124m\"\u001b[39m\u001b[38;5;124mtableReference\u001b[39m\u001b[38;5;124m\"\u001b[39m: table_ref\u001b[38;5;241m.\u001b[39mto_api_repr(), \u001b[38;5;124m\"\u001b[39m\u001b[38;5;124mlabels\u001b[39m\u001b[38;5;124m\"\u001b[39m: {}}\n\u001b[0;32m    414\u001b[0m     \u001b[38;5;66;03m# Let the @property do validation.\u001b[39;00m\n",
      "File \u001b[1;32mc:\\Users\\justi\\AppData\\Local\\Programs\\Python\\Python312\\Lib\\site-packages\\google\\cloud\\bigquery\\table.py:3290\u001b[0m, in \u001b[0;36m_table_arg_to_table_ref\u001b[1;34m(value, default_project)\u001b[0m\n\u001b[0;32m   3285\u001b[0m \u001b[38;5;250m\u001b[39m\u001b[38;5;124;03m\"\"\"Helper to convert a string or Table to TableReference.\u001b[39;00m\n\u001b[0;32m   3286\u001b[0m \n\u001b[0;32m   3287\u001b[0m \u001b[38;5;124;03mThis function keeps TableReference and other kinds of objects unchanged.\u001b[39;00m\n\u001b[0;32m   3288\u001b[0m \u001b[38;5;124;03m\"\"\"\u001b[39;00m\n\u001b[0;32m   3289\u001b[0m \u001b[38;5;28;01mif\u001b[39;00m \u001b[38;5;28misinstance\u001b[39m(value, \u001b[38;5;28mstr\u001b[39m):\n\u001b[1;32m-> 3290\u001b[0m     value \u001b[38;5;241m=\u001b[39m \u001b[43mTableReference\u001b[49m\u001b[38;5;241;43m.\u001b[39;49m\u001b[43mfrom_string\u001b[49m\u001b[43m(\u001b[49m\u001b[43mvalue\u001b[49m\u001b[43m,\u001b[49m\u001b[43m \u001b[49m\u001b[43mdefault_project\u001b[49m\u001b[38;5;241;43m=\u001b[39;49m\u001b[43mdefault_project\u001b[49m\u001b[43m)\u001b[49m\n\u001b[0;32m   3291\u001b[0m \u001b[38;5;28;01mif\u001b[39;00m \u001b[38;5;28misinstance\u001b[39m(value, (Table, TableListItem)):\n\u001b[0;32m   3292\u001b[0m     value \u001b[38;5;241m=\u001b[39m value\u001b[38;5;241m.\u001b[39mreference\n",
      "File \u001b[1;32mc:\\Users\\justi\\AppData\\Local\\Programs\\Python\\Python312\\Lib\\site-packages\\google\\cloud\\bigquery\\table.py:283\u001b[0m, in \u001b[0;36mTableReference.from_string\u001b[1;34m(cls, table_id, default_project)\u001b[0m\n\u001b[0;32m    254\u001b[0m \u001b[38;5;250m\u001b[39m\u001b[38;5;124;03m\"\"\"Construct a table reference from table ID string.\u001b[39;00m\n\u001b[0;32m    255\u001b[0m \n\u001b[0;32m    256\u001b[0m \u001b[38;5;124;03mArgs:\u001b[39;00m\n\u001b[1;32m   (...)\u001b[0m\n\u001b[0;32m    275\u001b[0m \u001b[38;5;124;03m        standard SQL format.\u001b[39;00m\n\u001b[0;32m    276\u001b[0m \u001b[38;5;124;03m\"\"\"\u001b[39;00m\n\u001b[0;32m    277\u001b[0m \u001b[38;5;28;01mfrom\u001b[39;00m \u001b[38;5;21;01mgoogle\u001b[39;00m\u001b[38;5;21;01m.\u001b[39;00m\u001b[38;5;21;01mcloud\u001b[39;00m\u001b[38;5;21;01m.\u001b[39;00m\u001b[38;5;21;01mbigquery\u001b[39;00m\u001b[38;5;21;01m.\u001b[39;00m\u001b[38;5;21;01mdataset\u001b[39;00m \u001b[38;5;28;01mimport\u001b[39;00m DatasetReference\n\u001b[0;32m    279\u001b[0m (\n\u001b[0;32m    280\u001b[0m     output_project_id,\n\u001b[0;32m    281\u001b[0m     output_dataset_id,\n\u001b[0;32m    282\u001b[0m     output_table_id,\n\u001b[1;32m--> 283\u001b[0m ) \u001b[38;5;241m=\u001b[39m \u001b[43m_helpers\u001b[49m\u001b[38;5;241;43m.\u001b[39;49m\u001b[43m_parse_3_part_id\u001b[49m\u001b[43m(\u001b[49m\n\u001b[0;32m    284\u001b[0m \u001b[43m    \u001b[49m\u001b[43mtable_id\u001b[49m\u001b[43m,\u001b[49m\u001b[43m \u001b[49m\u001b[43mdefault_project\u001b[49m\u001b[38;5;241;43m=\u001b[39;49m\u001b[43mdefault_project\u001b[49m\u001b[43m,\u001b[49m\u001b[43m \u001b[49m\u001b[43mproperty_name\u001b[49m\u001b[38;5;241;43m=\u001b[39;49m\u001b[38;5;124;43m\"\u001b[39;49m\u001b[38;5;124;43mtable_id\u001b[39;49m\u001b[38;5;124;43m\"\u001b[39;49m\n\u001b[0;32m    285\u001b[0m \u001b[43m\u001b[49m\u001b[43m)\u001b[49m\n\u001b[0;32m    287\u001b[0m \u001b[38;5;28;01mreturn\u001b[39;00m \u001b[38;5;28mcls\u001b[39m(\n\u001b[0;32m    288\u001b[0m     DatasetReference(output_project_id, output_dataset_id), output_table_id\n\u001b[0;32m    289\u001b[0m )\n",
      "File \u001b[1;32mc:\\Users\\justi\\AppData\\Local\\Programs\\Python\\Python312\\Lib\\site-packages\\google\\cloud\\bigquery\\_helpers.py:934\u001b[0m, in \u001b[0;36m_parse_3_part_id\u001b[1;34m(full_id, default_project, property_name)\u001b[0m\n\u001b[0;32m    931\u001b[0m parts \u001b[38;5;241m=\u001b[39m _split_id(full_id)\n\u001b[0;32m    933\u001b[0m \u001b[38;5;28;01mif\u001b[39;00m \u001b[38;5;28mlen\u001b[39m(parts) \u001b[38;5;241m!=\u001b[39m \u001b[38;5;241m2\u001b[39m \u001b[38;5;129;01mand\u001b[39;00m \u001b[38;5;28mlen\u001b[39m(parts) \u001b[38;5;241m!=\u001b[39m \u001b[38;5;241m3\u001b[39m:\n\u001b[1;32m--> 934\u001b[0m     \u001b[38;5;28;01mraise\u001b[39;00m \u001b[38;5;167;01mValueError\u001b[39;00m(\n\u001b[0;32m    935\u001b[0m         \u001b[38;5;124m\"\u001b[39m\u001b[38;5;132;01m{property_name}\u001b[39;00m\u001b[38;5;124m must be a fully-qualified ID in \u001b[39m\u001b[38;5;124m\"\u001b[39m\n\u001b[0;32m    936\u001b[0m         \u001b[38;5;124m'\u001b[39m\u001b[38;5;124mstandard SQL format, e.g., \u001b[39m\u001b[38;5;124m\"\u001b[39m\u001b[38;5;124mproject.dataset.\u001b[39m\u001b[38;5;132;01m{property_name}\u001b[39;00m\u001b[38;5;124m\"\u001b[39m\u001b[38;5;124m, \u001b[39m\u001b[38;5;124m'\u001b[39m\n\u001b[0;32m    937\u001b[0m         \u001b[38;5;124m\"\u001b[39m\u001b[38;5;124mgot \u001b[39m\u001b[38;5;132;01m{}\u001b[39;00m\u001b[38;5;124m\"\u001b[39m\u001b[38;5;241m.\u001b[39mformat(full_id, property_name\u001b[38;5;241m=\u001b[39mproperty_name)\n\u001b[0;32m    938\u001b[0m     )\n\u001b[0;32m    940\u001b[0m \u001b[38;5;28;01mif\u001b[39;00m \u001b[38;5;28mlen\u001b[39m(parts) \u001b[38;5;241m==\u001b[39m \u001b[38;5;241m2\u001b[39m \u001b[38;5;129;01mand\u001b[39;00m \u001b[38;5;129;01mnot\u001b[39;00m default_project:\n\u001b[0;32m    941\u001b[0m     \u001b[38;5;28;01mraise\u001b[39;00m \u001b[38;5;167;01mValueError\u001b[39;00m(\n\u001b[0;32m    942\u001b[0m         \u001b[38;5;124m\"\u001b[39m\u001b[38;5;124mWhen default_project is not set, \u001b[39m\u001b[38;5;132;01m{property_name}\u001b[39;00m\u001b[38;5;124m must be a \u001b[39m\u001b[38;5;124m\"\u001b[39m\n\u001b[0;32m    943\u001b[0m         \u001b[38;5;124m\"\u001b[39m\u001b[38;5;124mfully-qualified ID in standard SQL format, \u001b[39m\u001b[38;5;124m\"\u001b[39m\n\u001b[1;32m   (...)\u001b[0m\n\u001b[0;32m    946\u001b[0m         )\n\u001b[0;32m    947\u001b[0m     )\n",
      "\u001b[1;31mValueError\u001b[0m: table_id must be a fully-qualified ID in standard SQL format, e.g., \"project.dataset.table_id\", got "
     ]
    }
   ],
   "source": [
    "\n",
    "schema = [\n",
    "    bigquery.SchemaField(\"datetime\", \"TIMESTAMP\", mode=\"NULLABLE\"),\n",
    "    bigquery.SchemaField(\"register_no\", \"FLOAT\", mode=\"NULLABLE\"),\n",
    "    bigquery.SchemaField(\"emp_no\", \"FLOAT\", mode=\"NULLABLE\"),\n",
    "    bigquery.SchemaField(\"trans_no\", \"FLOAT\", mode=\"NULLABLE\"),\n",
    "    bigquery.SchemaField(\"upc\", \"STRING\", mode=\"NULLABLE\"),\n",
    "    bigquery.SchemaField(\"description\", \"STRING\", mode=\"NULLABLE\"),\n",
    "    bigquery.SchemaField(\"trans_type\", \"STRING\", mode=\"NULLABLE\"),\n",
    "    bigquery.SchemaField(\"trans_subtype\", \"STRING\", mode=\"NULLABLE\"),\n",
    "    bigquery.SchemaField(\"trans_status\", \"STRING\", mode=\"NULLABLE\"),\n",
    "    bigquery.SchemaField(\"department\", \"FLOAT\", mode=\"NULLABLE\"),#\n",
    "    bigquery.SchemaField(\"quantity\", \"FLOAT\", mode=\"NULLABLE\"),\n",
    "    bigquery.SchemaField(\"scale\", \"FLOAT\", mode=\"NULLABLE\"),\n",
    "    bigquery.SchemaField(\"cost\", \"FLOAT\", mode=\"NULLABLE\"),\n",
    "    bigquery.SchemaField(\"unitPrice\", \"FLOAT\", mode=\"NULLABLE\"),\n",
    "    bigquery.SchemaField(\"total\", \"FLOAT\", mode=\"NULLABLE\"),\n",
    "    bigquery.SchemaField(\"regPrice\", \"FLOAT\", mode=\"NULLABLE\"),\n",
    "    bigquery.SchemaField(\"altPrice\", \"FLOAT\", mode=\"NULLABLE\"),\n",
    "    bigquery.SchemaField(\"tax\", \"FLOAT\", mode=\"NULLABLE\"),\n",
    "    bigquery.SchemaField(\"taxexempt\", \"FLOAT\", mode=\"NULLABLE\"),\n",
    "    bigquery.SchemaField(\"foodstamp\", \"FLOAT\", mode=\"NULLABLE\"),\n",
    "    bigquery.SchemaField(\"wicable\", \"FLOAT\", mode=\"NULLABLE\"),\n",
    "    bigquery.SchemaField(\"discount\", \"FLOAT\", mode=\"NULLABLE\"),\n",
    "    bigquery.SchemaField(\"memDiscount\", \"FLOAT\", mode=\"NULLABLE\"),\n",
    "    bigquery.SchemaField(\"discountable\", \"FLOAT\", mode=\"NULLABLE\"),\n",
    "    bigquery.SchemaField(\"discounttype\", \"FLOAT\", mode=\"NULLABLE\"),\n",
    "    bigquery.SchemaField(\"voided\", \"FLOAT\", mode=\"NULLABLE\"),\n",
    "    bigquery.SchemaField(\"percentDiscount\", \"FLOAT\", mode=\"NULLABLE\"),\n",
    "    bigquery.SchemaField(\"itemQtty\", \"FLOAT\", mode=\"NULLABLE\"),\n",
    "    bigquery.SchemaField(\"volDiscType\", \"FLOAT\", mode=\"NULLABLE\"),\n",
    "    bigquery.SchemaField(\"volume\", \"FLOAT\", mode=\"NULLABLE\"),\n",
    "    bigquery.SchemaField(\"volSpecial\", \"FLOAT\", mode=\"NULLABLE\"),###\n",
    "    bigquery.SchemaField(\"mixMatch\", \"FLOAT\", mode=\"NULLABLE\"),\n",
    "    bigquery.SchemaField(\"matched\", \"FLOAT\", mode=\"NULLABLE\"),\n",
    "    bigquery.SchemaField(\"memType\", \"FLOAT\", mode=\"NULLABLE\"),\n",
    "    bigquery.SchemaField(\"staff\", \"FLOAT\", mode=\"NULLABLE\"),\n",
    "    bigquery.SchemaField(\"numflag\", \"FLOAT\", mode=\"NULLABLE\"),\n",
    "    bigquery.SchemaField(\"itemstatus\", \"FLOAT\", mode=\"NULLABLE\"),\n",
    "    bigquery.SchemaField(\"tenderstatus\", \"FLOAT\", mode=\"NULLABLE\"),\n",
    "    bigquery.SchemaField(\"charflag\", \"FLOAT\", mode=\"NULLABLE\"),\n",
    "    bigquery.SchemaField(\"varflag\", \"FLOAT\", mode=\"NULLABLE\"),\n",
    "    bigquery.SchemaField(\"batchHeaderID\", \"FLOAT\", mode=\"NULLABLE\"),\n",
    "    bigquery.SchemaField(\"local\", \"FLOAT\", mode=\"NULLABLE\"),\n",
    "    bigquery.SchemaField(\"organic\", \"FLOAT\", mode=\"NULLABLE\"),\n",
    "    bigquery.SchemaField(\"display\", \"FLOAT\", mode=\"NULLABLE\"),\n",
    "    bigquery.SchemaField(\"receipt\", \"FLOAT\", mode=\"NULLABLE\"),\n",
    "    bigquery.SchemaField(\"card_no\", \"FLOAT\", mode=\"NULLABLE\"),\n",
    "    bigquery.SchemaField(\"store\", \"FLOAT\", mode=\"NULLABLE\"),\n",
    "    bigquery.SchemaField(\"branch\", \"FLOAT\", mode=\"NULLABLE\"),\n",
    "    bigquery.SchemaField(\"match_id\", \"FLOAT\", mode=\"NULLABLE\"),\n",
    "    bigquery.SchemaField(\"trans_id\", \"FLOAT\", mode=\"NULLABLE\"),\n",
    "]\n",
    "\n",
    "table_id = \"\"\n",
    "table = bigquery.Table(table_id, schema=schema)\n",
    "\n",
    "client.create_table(table)\n"
   ]
  },
  {
   "cell_type": "markdown",
   "metadata": {},
   "source": [
    "## Uploading to GBQ (TK 🔥)"
   ]
  },
  {
   "cell_type": "code",
   "execution_count": 35,
   "metadata": {},
   "outputs": [],
   "source": [
    "# Date time\n",
    "pandas_df = df.to_pandas()\n",
    "\n",
    "\n",
    "# Fixing the code\n",
    "\n",
    "pandas_df[\"datetime\"] = pandas_df[\"datetime\"].apply(datetime_safe_cast)\n",
    "   "
   ]
  },
  {
   "cell_type": "code",
   "execution_count": 39,
   "metadata": {},
   "outputs": [
    {
     "name": "stdout",
     "output_type": "stream",
     "text": [
      "Column: datetime\n",
      "Column: register_no\n",
      "Column: emp_no\n",
      "Column: trans_no\n",
      "Column: upc\n",
      "Column: description\n",
      "Column: trans_type\n",
      "Column: trans_subtype\n",
      "Column: trans_status\n",
      "Column: department\n",
      "Column: quantity\n",
      "Column: Scale\n",
      "Column: cost\n",
      "Column: unitPrice\n",
      "Column: total\n",
      "Column: regPrice\n",
      "Column: altPrice\n",
      "Column: tax\n",
      "Column: taxexempt\n",
      "Column: foodstamp\n",
      "Column: wicable\n",
      "Column: discount\n",
      "Column: memDiscount\n",
      "Column: discountable\n",
      "Column: discounttype\n",
      "Column: voided\n",
      "Column: percentDiscount\n",
      "Column: ItemQtty\n",
      "Column: volDiscType\n",
      "Column: volume\n",
      "Column: VolSpecial\n",
      "Column: mixMatch\n",
      "Column: matched\n",
      "Column: memType\n",
      "Column: staff\n",
      "Column: numflag\n",
      "Column: itemstatus\n",
      "Column: tenderstatus\n",
      "Column: charflag\n",
      "Column: varflag\n",
      "Column: batchHeaderID\n",
      "Column: local\n",
      "Column: organic\n",
      "Column: display\n",
      "Column: receipt\n",
      "Column: card_no\n",
      "Column: store\n",
      "Column: branch\n",
      "Column: match_id\n",
      "Column: trans_id\n"
     ]
    }
   ],
   "source": [
    "for col_name in pandas_df:\n",
    "    print(f'Column: {col_name}')\n",
    "\n",
    "    if col_name == \"datetime\":\n",
    "        pandas_df[col_name] = pandas_df[col_name].apply(datetime_safe_cast)\n",
    "        \n",
    "    #print(col_data)"
   ]
  },
  {
   "cell_type": "markdown",
   "metadata": {},
   "source": [
    "----\n",
    "## Cleaning/Casting Methods"
   ]
  },
  {
   "cell_type": "markdown",
   "metadata": {},
   "source": [
    "### Datetime"
   ]
  },
  {
   "cell_type": "code",
   "execution_count": 34,
   "metadata": {},
   "outputs": [],
   "source": [
    "from datetime import datetime\n",
    "\n",
    "# Date time\n",
    "\n",
    "def datetime_safe_cast(val):\n",
    "    try:\n",
    "        return datetime.strptime(val, '%Y-%m-%d %H:%M:%S')\n",
    "    except (ValueError, TypeError):\n",
    "        return None  # or another value to handle invalid cases\n",
    "\n",
    "        "
   ]
  },
  {
   "cell_type": "markdown",
   "metadata": {},
   "source": [
    "### Float"
   ]
  },
  {
   "cell_type": "code",
   "execution_count": 12,
   "metadata": {},
   "outputs": [],
   "source": [
    "# Float\n",
    "def float_safe_cast(val):\n",
    "    try:\n",
    "        return float(val)\n",
    "    except ValueError:\n",
    "        return None  # or another value to handle invalid cases\n",
    "\n",
    "\n"
   ]
  },
  {
   "cell_type": "markdown",
   "metadata": {},
   "source": [
    "### String"
   ]
  },
  {
   "cell_type": "code",
   "execution_count": 13,
   "metadata": {},
   "outputs": [],
   "source": [
    "# String\n",
    "def string_safe_cast(val):\n",
    "    try:\n",
    "        return str(val)\n",
    "    except ValueError:\n",
    "        return \"\"  # or another value to handle invalid cases\n",
    "\n"
   ]
  },
  {
   "cell_type": "markdown",
   "metadata": {},
   "source": [
    "### Boolean"
   ]
  },
  {
   "cell_type": "code",
   "execution_count": 14,
   "metadata": {},
   "outputs": [],
   "source": [
    "\n",
    "# Boolean\n",
    "def boolean_safe_cast(val):\n",
    "    try:\n",
    "        return bool(val)\n",
    "    except ValueError:\n",
    "        return None  # or another value to handle invalid cases"
   ]
  }
 ],
 "metadata": {
  "kernelspec": {
   "display_name": "Python 3",
   "language": "python",
   "name": "python3"
  },
  "language_info": {
   "codemirror_mode": {
    "name": "ipython",
    "version": 3
   },
   "file_extension": ".py",
   "mimetype": "text/x-python",
   "name": "python",
   "nbconvert_exporter": "python",
   "pygments_lexer": "ipython3",
   "version": "3.12.5"
  }
 },
 "nbformat": 4,
 "nbformat_minor": 2
}
