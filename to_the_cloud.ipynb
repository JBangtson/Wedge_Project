{
 "cells": [
  {
   "cell_type": "markdown",
   "metadata": {},
   "source": [
    "\n",
    "-Complete\n",
    "\n"
   ]
  },
  {
   "cell_type": "markdown",
   "metadata": {},
   "source": []
  },
  {
   "cell_type": "markdown",
   "metadata": {},
   "source": []
  },
  {
   "cell_type": "code",
   "execution_count": 2,
   "metadata": {},
   "outputs": [],
   "source": [
    "from google.cloud import bigquery\n",
    "import os\n",
    "import zipfile\n",
    "import polars as pl\n",
    "import pandas as pd\n",
    "from datetime import datetime\n",
    "from pandas_gbq import to_gbq\n",
    "\n",
    "# Define the dataset and table names\n",
    "dataset_id = 'wedge-project-JBangtson.the_wedge_dataset'\n",
    "\n",
    "# Initialize a BigQuery client\n",
    "client = bigquery.Client(project='wedge-project-jbangtson')\n",
    "\n",
    "\n",
    "data_directory = \"E:\\\\College\\\\Fall 2024\\\\ADA\\\\Wedge\\\\Wedge_Project\\\\data\\\\unzipped\\\\\""
   ]
  },
  {
   "cell_type": "markdown",
   "metadata": {},
   "source": [
    "## Importing the files in as lazy dataframes.\n",
    "\n",
    "This script efficiently loads multiple CSV files into Polars LazyFrame objects, allowing for optimized data processing without immediately materializing the data into memory. It selectively handles CSVs based on their naming convention (specifically files marked as \"inactive\") and manages errors gracefully during the loading process."
   ]
  },
  {
   "cell_type": "code",
   "execution_count": 3,
   "metadata": {},
   "outputs": [],
   "source": [
    "# Need to put all csvs into there own dfs\n",
    "#https://chatgpt.com/share/66e4ad8b-ea5c-8000-9117-d884dd0bbfb3\n",
    "\n",
    "\n",
    "# Initialize an empty list to store LazyFrames\n",
    "lazy_df_list = []\n",
    "\n",
    "# Loop through files and load lazily\n",
    "for idx, file in enumerate(os.listdir(data_directory)):\n",
    "    \n",
    "\n",
    "    file_path = os.path.join(data_directory, file)\n",
    "\n",
    "\n",
    "    if len(os.listdir(data_directory)[idx].split(\"_\")) >= 4 and os.listdir(data_directory)[idx].split(\"_\")[3] == \"inactive.csv\":\n",
    "        # Use LazyFrame for efficient processing\n",
    "        lazy_df = pl.scan_csv(file_path, has_header=True, null_values=[\"\\\\N\"], ignore_errors=True,separator=\";\")\n",
    "\n",
    "    else:\n",
    "        # Use LazyFrame for efficient processing\n",
    "        lazy_df = pl.scan_csv(file_path, has_header=True, null_values=[\"\\\\N\"], ignore_errors=True)\n",
    "    \n",
    "    # Append LazyFrame to the list\n",
    "    lazy_df_list.append(lazy_df)\n",
    "\n",
    "# Example: Materialize (collect) one of the lazy DataFrames to inspect it\n",
    "df = lazy_df_list[0].collect()\n",
    "#df1 = lazy_df_list[38].collect()\n",
    "\n",
    "clean_columns = df.columns\n",
    "#print(df.head())\n"
   ]
  },
  {
   "cell_type": "markdown",
   "metadata": {},
   "source": [
    "## Creating GBQ Schema\n",
    "\n",
    "This code defines a schema for a BigQuery table using bigquery.SchemaField objects. The schema specifies the structure of the data, including the column names, data types (e.g., FLOAT, STRING, BOOLEAN, TIMESTAMP), and whether each field is nullable. This schema can be used to load, query, and manage structured transaction data in BigQuery."
   ]
  },
  {
   "cell_type": "code",
   "execution_count": 4,
   "metadata": {},
   "outputs": [],
   "source": [
    "\n",
    "wedge_schema = [\n",
    "    bigquery.SchemaField(\"datetime\", \"TIMESTAMP\", mode=\"NULLABLE\"),\n",
    "    bigquery.SchemaField(\"register_no\", \"FLOAT\", mode=\"NULLABLE\"),\n",
    "    bigquery.SchemaField(\"emp_no\", \"FLOAT\", mode=\"NULLABLE\"),\n",
    "    bigquery.SchemaField(\"trans_no\", \"FLOAT\", mode=\"NULLABLE\"),\n",
    "    bigquery.SchemaField(\"upc\", \"STRING\", mode=\"NULLABLE\"),\n",
    "    bigquery.SchemaField(\"description\", \"STRING\", mode=\"NULLABLE\"),\n",
    "    bigquery.SchemaField(\"trans_type\", \"STRING\", mode=\"NULLABLE\"),\n",
    "    bigquery.SchemaField(\"trans_subtype\", \"STRING\", mode=\"NULLABLE\"),\n",
    "    bigquery.SchemaField(\"trans_status\", \"STRING\", mode=\"NULLABLE\"),\n",
    "    bigquery.SchemaField(\"department\", \"FLOAT\", mode=\"NULLABLE\"),#\n",
    "    bigquery.SchemaField(\"quantity\", \"FLOAT\", mode=\"NULLABLE\"),\n",
    "    bigquery.SchemaField(\"Scale\", \"FLOAT\", mode=\"NULLABLE\"),\n",
    "    bigquery.SchemaField(\"cost\", \"FLOAT\", mode=\"NULLABLE\"),\n",
    "    bigquery.SchemaField(\"unitPrice\", \"FLOAT\", mode=\"NULLABLE\"),\n",
    "    bigquery.SchemaField(\"total\", \"FLOAT\", mode=\"NULLABLE\"),\n",
    "    bigquery.SchemaField(\"regPrice\", \"FLOAT\", mode=\"NULLABLE\"),\n",
    "    bigquery.SchemaField(\"altPrice\", \"FLOAT\", mode=\"NULLABLE\"),\n",
    "    bigquery.SchemaField(\"tax\", \"FLOAT\", mode=\"NULLABLE\"),\n",
    "    bigquery.SchemaField(\"taxexempt\", \"FLOAT\", mode=\"NULLABLE\"),\n",
    "    bigquery.SchemaField(\"foodstamp\", \"FLOAT\", mode=\"NULLABLE\"),\n",
    "    bigquery.SchemaField(\"wicable\", \"FLOAT\", mode=\"NULLABLE\"),\n",
    "    bigquery.SchemaField(\"discount\", \"FLOAT\", mode=\"NULLABLE\"),\n",
    "    bigquery.SchemaField(\"memDiscount\", \"FLOAT\", mode=\"NULLABLE\"),\n",
    "    bigquery.SchemaField(\"discountable\", \"FLOAT\", mode=\"NULLABLE\"),\n",
    "    bigquery.SchemaField(\"discounttype\", \"FLOAT\", mode=\"NULLABLE\"),\n",
    "    bigquery.SchemaField(\"voided\", \"FLOAT\", mode=\"NULLABLE\"),\n",
    "    bigquery.SchemaField(\"percentDiscount\", \"FLOAT\", mode=\"NULLABLE\"),\n",
    "    bigquery.SchemaField(\"ItemQtty\", \"FLOAT\", mode=\"NULLABLE\"),\n",
    "    bigquery.SchemaField(\"volDiscType\", \"FLOAT\", mode=\"NULLABLE\"),\n",
    "    bigquery.SchemaField(\"volume\", \"FLOAT\", mode=\"NULLABLE\"),\n",
    "    bigquery.SchemaField(\"VolSpecial\", \"FLOAT\", mode=\"NULLABLE\"),###\n",
    "    bigquery.SchemaField(\"mixMatch\", \"FLOAT\", mode=\"NULLABLE\"),\n",
    "    bigquery.SchemaField(\"matched\", \"FLOAT\", mode=\"NULLABLE\"),\n",
    "    bigquery.SchemaField(\"memType\", \"BOOLEAN\", mode=\"NULLABLE\"),\n",
    "    bigquery.SchemaField(\"staff\", \"BOOLEAN\", mode=\"NULLABLE\"),\n",
    "    bigquery.SchemaField(\"numflag\", \"FLOAT\", mode=\"NULLABLE\"),\n",
    "    bigquery.SchemaField(\"itemstatus\", \"FLOAT\", mode=\"NULLABLE\"),\n",
    "    bigquery.SchemaField(\"tenderstatus\", \"FLOAT\", mode=\"NULLABLE\"),\n",
    "    bigquery.SchemaField(\"charflag\", \"STRING\", mode=\"NULLABLE\"),\n",
    "    bigquery.SchemaField(\"varflag\", \"FLOAT\", mode=\"NULLABLE\"),\n",
    "    bigquery.SchemaField(\"batchHeaderID\", \"BOOLEAN\", mode=\"NULLABLE\"),\n",
    "    bigquery.SchemaField(\"local\", \"FLOAT\", mode=\"NULLABLE\"),\n",
    "    bigquery.SchemaField(\"organic\", \"FLOAT\", mode=\"NULLABLE\"),\n",
    "    bigquery.SchemaField(\"display\", \"BOOLEAN\", mode=\"NULLABLE\"),\n",
    "    bigquery.SchemaField(\"receipt\", \"FLOAT\", mode=\"NULLABLE\"),\n",
    "    bigquery.SchemaField(\"card_no\", \"FLOAT\", mode=\"NULLABLE\"),\n",
    "    bigquery.SchemaField(\"store\", \"FLOAT\", mode=\"NULLABLE\"),\n",
    "    bigquery.SchemaField(\"branch\", \"FLOAT\", mode=\"NULLABLE\"),\n",
    "    bigquery.SchemaField(\"match_id\", \"FLOAT\", mode=\"NULLABLE\"),\n",
    "    bigquery.SchemaField(\"trans_id\", \"FLOAT\", mode=\"NULLABLE\")\n",
    "]\n",
    "\n"
   ]
  },
  {
   "cell_type": "markdown",
   "metadata": {},
   "source": [
    "----\n",
    "## Cleaning/Casting Methods\n",
    "\n",
    "### Wedge Cleaner \n",
    "The wedge_cleaner function processes a pandas DataFrame to ensure data consistency and cleanliness by applying specific type-safe casting functions to each column based on its name. It handles columns differently based on their expected data type:\n",
    "\n",
    "    Datetime Columns: Applies datetime_safe_cast for proper datetime formatting.\n",
    "    Float Columns: Applies float_safe_cast to ensure values are converted to floats.\n",
    "    String Columns: Applies string_safe_cast for consistent string formatting.\n",
    "    Boolean Columns: Applies boolean_safe_cast to correctly convert values to boolean.\n",
    "\n",
    "The function iterates over each column, performs the appropriate casting, and returns the cleaned DataFrame."
   ]
  },
  {
   "cell_type": "code",
   "execution_count": 5,
   "metadata": {},
   "outputs": [],
   "source": [
    "\n",
    "def wedge_cleaner(pandas_df):\n",
    "    # Apply the function within the loop\n",
    "\n",
    "\n",
    "    for col_name in pandas_df:\n",
    "        print(f'Column: {col_name}')\n",
    "\n",
    "        # Datetime\n",
    "\n",
    "        try:\n",
    "            if col_name == \"datetime\":\n",
    "                pandas_df[col_name] = pd.to_datetime(pandas_df[col_name])\n",
    "\n",
    "        except:\n",
    "            print(f\"Error with {col_name} column with the value {pandas_df[col_name]}\") \n",
    "\n",
    "        # Float\n",
    "        if col_name in [\"register_no\", \"emp_no\", \"trans_no\", \"department\", \"quantity\", \"Scale\", \"cost\", \"unitPrice\", \"total\", \"regPrice\", \"altPrice\", \"tax\", \"taxexempt\", \"foodstamp\", \"wicable\", \"discount\", \"memDiscount\", \"discountable\", \"discounttype\", \"voided\", \"percentDiscount\", \"itemQtty\", \"volDiscType\", \"volume\", \"volSpecial\", \"mixMatch\", \"matched\", \"numflag\", \"itemstatus\", \"tenderstatus\", \"varflag\", \"local\", \"organic\", \"receipt\", \"card_no\", \"store\", \"branch\", \"match_id\", \"trans_id\"]:\n",
    "            pandas_df[col_name] = pandas_df[col_name].apply(float_safe_cast)\n",
    "\n",
    "        # String\n",
    "        if col_name in [\"upc\", \"description\", \"trans_type\", \"trans_subtype\", \"trans_status\", \"charflag\"]:\n",
    "            pandas_df[col_name] = pandas_df[col_name].apply(string_safe_cast)\n",
    "\n",
    "        # Boolean\n",
    "        if col_name in [\"memType\", \"staff\", \"batchHeaderID\", \"display\"]:\n",
    "            pandas_df[col_name] = pandas_df[col_name].apply(boolean_safe_cast)\n",
    "        \n",
    "\n",
    "\n",
    "\n",
    "\n",
    "    return pandas_df\n",
    "    \n",
    "    #print(col_data)"
   ]
  },
  {
   "cell_type": "markdown",
   "metadata": {},
   "source": [
    "### Datetime"
   ]
  },
  {
   "cell_type": "code",
   "execution_count": 6,
   "metadata": {},
   "outputs": [],
   "source": [
    "from datetime import datetime\n",
    "\n",
    "# Date time\n",
    "\n",
    "def datetime_safe_cast(val):\n",
    "    try:\n",
    "        return datetime.strptime(val, '%Y-%m-%d %H:%M:%S')\n",
    "    \n",
    "    except (ValueError, TypeError):\n",
    "        print(f\"Returning None Datetime. Cannot convert {val} to datetime\")\n",
    "        return datetime.min # or another value to handle invalid cases\n",
    "\n",
    "        "
   ]
  },
  {
   "cell_type": "markdown",
   "metadata": {},
   "source": [
    "### Float"
   ]
  },
  {
   "cell_type": "code",
   "execution_count": 7,
   "metadata": {},
   "outputs": [],
   "source": [
    "# Float\n",
    "def float_safe_cast(val):\n",
    "    try:\n",
    "        return float(val) if val is not None else None\n",
    "    except ValueError:\n",
    "        print(\"Returning None Float\")\n",
    "        return None  # or another value to handle invalid cases\n",
    "\n",
    "\n"
   ]
  },
  {
   "cell_type": "markdown",
   "metadata": {},
   "source": [
    "### String"
   ]
  },
  {
   "cell_type": "code",
   "execution_count": 8,
   "metadata": {},
   "outputs": [],
   "source": [
    "# String\n",
    "def string_safe_cast(val):\n",
    "    if str(val) in \"nan\" :\n",
    "        return \"\"\n",
    "\n",
    "    try:\n",
    "        return str(val)\n",
    "    except ValueError:\n",
    "        print(\"Returning None String\")\n",
    "        return \"\"  # or another value to handle invalid cases\n",
    "\n"
   ]
  },
  {
   "cell_type": "markdown",
   "metadata": {},
   "source": [
    "### Boolean"
   ]
  },
  {
   "cell_type": "code",
   "execution_count": 9,
   "metadata": {},
   "outputs": [],
   "source": [
    "\n",
    "# Boolean\n",
    "def boolean_safe_cast(val):\n",
    "    try:\n",
    "        return bool(val)\n",
    "    except ValueError:\n",
    "        print(\"Returning None Boolean\")\n",
    "        return None  # or another value to handle invalid cases"
   ]
  },
  {
   "cell_type": "code",
   "execution_count": null,
   "metadata": {},
   "outputs": [],
   "source": []
  },
  {
   "cell_type": "markdown",
   "metadata": {},
   "source": [
    "## Cleans and Uploads to GBQ (🙏)\n",
    "\n",
    "This script processes a list of Polars LazyFrame objects by converting them to pandas DataFrames, cleaning them using the wedge_cleaner function, and then uploading the cleaned DataFrames to Google BigQuery (GBQ).\n",
    "Steps:\n",
    "Iterate Over LazyFrames:\n",
    "For each LazyFrame in lazy_df_list, the script prints the file number and name.\n",
    "Collect and Clean Data:\n",
    "Convert the LazyFrame to a pandas DataFrame (df) and set column names to clean_columns.\n",
    "Use wedge_cleaner to clean the DataFrame.\n",
    "Upload to GBQ:\n",
    "Print status messages indicating the start and completion of the upload process.\n",
    "Define the project ID and destination table name for BigQuery.\n",
    "Upload the cleaned DataFrame to BigQuery using to_gbq() with the if_exists='replace' parameter to replace the table if it already exists.\n",
    "This code ensures that each file is processed, cleaned, and uploaded to a specified BigQuery table."
   ]
  },
  {
   "cell_type": "code",
   "execution_count": null,
   "metadata": {},
   "outputs": [],
   "source": [
    "# Date time\n",
    "#df = lazy_df_list[45].collect()\n",
    "#df.columns = clean_columns\n",
    "\n",
    "\n",
    "\n",
    "\n",
    "\n",
    "\n",
    "#pandas_df = df.to_pandas()\n",
    "\n",
    "for idx, lazy_df in enumerate(lazy_df_list):\n",
    "    print(f\"Cleaning file number: {idx}\\nFile Name: {os.listdir(data_directory)[idx]}\")\n",
    "\n",
    "    df = lazy_df.collect()\n",
    "    df.columns = clean_columns\n",
    "    clean_panda_df = df\n",
    "    \n",
    "    clean_panda_df = wedge_cleaner(clean_panda_df)\n",
    "    \n",
    "    \n",
    "\n",
    "    print(f\"Finished cleaning file number: {idx}\\nFile Name: {os.listdir(data_directory)[idx]}!\\n\\n------------------------------------\")\n",
    "\n",
    "    print(f\"Uploading file number: {idx}\\nFile Name: {os.listdir(data_directory)[idx]} to GBQ\")\n",
    "\n",
    "    # Define project_id and destination table\n",
    "    project_id = 'wedge-project-jbangtson'\n",
    "    table_name = str(os.listdir(data_directory)[idx]).split(\".\")[0]\n",
    "    destination_table = f'the_wedge_dataset.{table_name}'\n",
    "\n",
    "\n",
    "    to_gbq(clean_panda_df, destination_table, project_id=project_id, if_exists='replace', schema = wedge_schema)\n",
    "   "
   ]
  },
  {
   "cell_type": "code",
   "execution_count": null,
   "metadata": {},
   "outputs": [],
   "source": [
    "# Date time\n",
    "#df = lazy_df_list[45].collect()\n",
    "#df.columns = clean_columns\n",
    "\n",
    "\n",
    "\n",
    "\n",
    "\n",
    "\n",
    "#pandas_df = df.to_pandas()\n",
    "\n",
    "for idx, lazy_df in enumerate(lazy_df_list[37:38], start=37):\n",
    "    print(f\"Cleaning file number: {idx}\\nFile Name: {os.listdir(data_directory)[idx]}\")\n",
    "\n",
    "    df = pd.read_csv(\"data/unzipped/\" + os.listdir(data_directory)[idx], sep=\",\")\n",
    "    # df = pain_in_ass_df\n",
    "    \n",
    "    \n",
    "    clean_panda_df = wedge_cleaner(df)\n",
    "    \n",
    "    \n",
    "\n",
    "    print(f\"Finished cleaning file number: {idx}\\nFile Name: {os.listdir(data_directory)[idx]}!\\n\\n------------------------------------\")\n",
    "\n",
    "    print(f\"Uploading file number: {idx}\\nFile Name: {os.listdir(data_directory)[idx]} to GBQ\")\n",
    "\n",
    "    # Define project_id and destination table\n",
    "    project_id = 'wedge-project-jbangtson'\n",
    "    table_name = str(os.listdir(data_directory)[idx]).split(\".\")[0]\n",
    "    destination_table = f'the_wedge_dataset.{table_name}'\n",
    "\n",
    "\n",
    "    to_gbq(clean_panda_df, destination_table, project_id=project_id, if_exists='replace')\n",
    "   "
   ]
  },
  {
   "cell_type": "code",
   "execution_count": null,
   "metadata": {},
   "outputs": [],
   "source": [
    "fruit = [\"apple\", \"banana\", \"cherry\"]\n",
    "\n",
    "for idx, x in enumerate(fruit[1:], start=1):  # Start index from 10\n",
    "    print(idx, x)"
   ]
  },
  {
   "cell_type": "code",
   "execution_count": 60,
   "metadata": {},
   "outputs": [],
   "source": [
    "#open a csv file to a pandas dataframe\n",
    "table_name = \"transArchive_201602\"\n",
    "manual_troubleshooting_df = pd.read_csv(f\"data/unzipped/{table_name}.csv\", sep=\",\")\n"
   ]
  },
  {
   "cell_type": "code",
   "execution_count": 61,
   "metadata": {},
   "outputs": [],
   "source": [
    "#convert a pandas columns datatype\n",
    "manual_troubleshooting_df.columns = clean_columns\n",
    "\n",
    "\n",
    "#to_gbq(manual_troubleshooting_df, destination_table, project_id=project_id, if_exists='replace', table_schema=wedge_schema)"
   ]
  },
  {
   "cell_type": "code",
   "execution_count": null,
   "metadata": {},
   "outputs": [],
   "source": [
    "manual_troubleshooting_df = wedge_cleaner(manual_troubleshooting_df)\n",
    "\n",
    "\n",
    "# Define project_id and destination table\n",
    "project_id = 'wedge-project-jbangtson'\n",
    "\n",
    "destination_table = f'the_wedge_dataset.{table_name}'\n"
   ]
  },
  {
   "cell_type": "code",
   "execution_count": null,
   "metadata": {},
   "outputs": [],
   "source": [
    "# Define the table_id\n",
    "\n",
    "\n",
    "# Set the job configuration\n",
    "job_config = bigquery.LoadJobConfig(schema=wedge_schema)\n",
    "\n",
    "# Upload the DataFrame to BigQuery\n",
    "job = client.load_table_from_dataframe(manual_troubleshooting_df, destination_table, job_config=job_config)\n",
    "job.result() "
   ]
  },
  {
   "cell_type": "code",
   "execution_count": null,
   "metadata": {},
   "outputs": [],
   "source": [
    "for x in range(4, 5):\n",
    "\n",
    "    #open a csv file to a pandas dataframe\n",
    "    table_name = f\"transArchive_20160{x}\"\n",
    "    manual_troubleshooting_df = pd.read_csv(f\"data/unzipped/{table_name}.csv\", sep=\",\")\n",
    "\n",
    "\n",
    "    manual_troubleshooting_df.columns = clean_columns\n",
    "\n",
    "    manual_troubleshooting_df = wedge_cleaner(manual_troubleshooting_df)\n",
    "\n",
    "\n",
    "    # Define project_id and destination table\n",
    "    project_id = 'wedge-project-jbangtson'\n",
    "\n",
    "    destination_table = f'the_wedge_dataset.{table_name}'\n",
    "\n",
    "\n",
    "    job_config = bigquery.LoadJobConfig(schema=wedge_schema, write_disposition=bigquery.WriteDisposition.WRITE_TRUNCATE)\n",
    "\n",
    "    # Upload the DataFrame to BigQuery\n",
    "    job = client.load_table_from_dataframe(manual_troubleshooting_df, destination_table, job_config=job_config)\n",
    "    job.result() "
   ]
  }
 ],
 "metadata": {
  "kernelspec": {
   "display_name": "Python 3",
   "language": "python",
   "name": "python3"
  },
  "language_info": {
   "codemirror_mode": {
    "name": "ipython",
    "version": 3
   },
   "file_extension": ".py",
   "mimetype": "text/x-python",
   "name": "python",
   "nbconvert_exporter": "python",
   "pygments_lexer": "ipython3",
   "version": "3.12.5"
  }
 },
 "nbformat": 4,
 "nbformat_minor": 2
}
